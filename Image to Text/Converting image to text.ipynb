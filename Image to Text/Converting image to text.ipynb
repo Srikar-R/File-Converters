{
 "cells": [
  {
   "cell_type": "markdown",
   "metadata": {},
   "source": [
    "__Installing pytesseract__"
   ]
  },
  {
   "cell_type": "code",
   "execution_count": 2,
   "metadata": {},
   "outputs": [
    {
     "name": "stdout",
     "output_type": "stream",
     "text": [
      "Collecting pytesseract\n",
      "  Using cached pytesseract-0.3.10-py3-none-any.whl (14 kB)\n",
      "Requirement already satisfied: Pillow>=8.0.0 in c:\\users\\srikar\\anaconda4\\lib\\site-packages (from pytesseract) (9.2.0)\n",
      "Requirement already satisfied: packaging>=21.3 in c:\\users\\srikar\\anaconda4\\lib\\site-packages (from pytesseract) (21.3)\n",
      "Requirement already satisfied: pyparsing!=3.0.5,>=2.0.2 in c:\\users\\srikar\\anaconda4\\lib\\site-packages (from packaging>=21.3->pytesseract) (3.0.9)\n",
      "Installing collected packages: pytesseract\n",
      "Successfully installed pytesseract-0.3.10\n"
     ]
    }
   ],
   "source": [
    "#!pip install pytesseract"
   ]
  },
  {
   "cell_type": "code",
   "execution_count": 3,
   "metadata": {},
   "outputs": [],
   "source": [
    "import pytesseract"
   ]
  },
  {
   "cell_type": "markdown",
   "metadata": {},
   "source": [
    "__Running the Pytesseract software__"
   ]
  },
  {
   "cell_type": "code",
   "execution_count": 4,
   "metadata": {},
   "outputs": [],
   "source": [
    "pytesseract.pytesseract.tesseract_cmd = r'C:\\Program Files (x86)\\Tesseract-OCR\\tesseract'"
   ]
  },
  {
   "cell_type": "markdown",
   "metadata": {},
   "source": [
    "__Storing the image__"
   ]
  },
  {
   "cell_type": "code",
   "execution_count": 5,
   "metadata": {},
   "outputs": [],
   "source": [
    "a=(pytesseract.image_to_string(r'C:\\Users\\Srikar\\Desktop\\Study Stuff\\Personal Projects\\File Conversions\\12511.png'))"
   ]
  },
  {
   "cell_type": "markdown",
   "metadata": {},
   "source": [
    "__Printing the image__"
   ]
  },
  {
   "cell_type": "code",
   "execution_count": 6,
   "metadata": {},
   "outputs": [
    {
     "name": "stdout",
     "output_type": "stream",
     "text": [
      "GeeksforGeeks\n",
      "\n",
      "A Computer Science Portal for Geeks\n",
      "\n",
      "How many times were you frustrated while looking out for a good\n",
      "collection of programming/ algorithm/ interview questions? What did\n",
      "you expect and what did you get? This portal has been created to\n",
      "provide well written, well thought and well explained solutions for\n",
      "selected questions. An IIT Roorkee alumnus and founder of\n",
      "GeeksforGeeks. He loves to solve programming problems in most\n",
      "efficient ways. Apart from GeeksforGeeks, he has worked with DE\n",
      "Shaw and Co. as a software developer and JIIT Noida as an assistant professor. It is a\n",
      "good platform to learn programming. It is an educational website. Prepare for the\n",
      "Recruitment drive of product based companies like Microsoft, Amazon, Adobe ete with\n",
      "a free online placement preparation course.\n",
      "\n"
     ]
    }
   ],
   "source": [
    "print(a)"
   ]
  },
  {
   "cell_type": "markdown",
   "metadata": {},
   "source": [
    "__Displaying the text on Anvil__"
   ]
  },
  {
   "cell_type": "code",
   "execution_count": 7,
   "metadata": {},
   "outputs": [],
   "source": [
    "import anvil.server"
   ]
  },
  {
   "cell_type": "code",
   "execution_count": 8,
   "metadata": {},
   "outputs": [
    {
     "name": "stdout",
     "output_type": "stream",
     "text": [
      "Connecting to wss://anvil.works/uplink\n",
      "Anvil websocket open\n",
      "Connected to \"Debug for srikaruchiha15@gmail.com\" as SERVER\n"
     ]
    }
   ],
   "source": [
    "anvil.server.connect('server_IEPGVCBQZV52OVLLRASNCOCY-NGBLTGBYKKQKSOVT')"
   ]
  },
  {
   "cell_type": "markdown",
   "metadata": {},
   "source": [
    "__Defining the function to call__"
   ]
  },
  {
   "cell_type": "code",
   "execution_count": 9,
   "metadata": {},
   "outputs": [],
   "source": [
    "import numpy as np"
   ]
  },
  {
   "cell_type": "code",
   "execution_count": 11,
   "metadata": {},
   "outputs": [],
   "source": [
    "import anvil.media"
   ]
  },
  {
   "cell_type": "markdown",
   "metadata": {},
   "source": [
    "__Testing it in jupyter__"
   ]
  },
  {
   "cell_type": "code",
   "execution_count": 21,
   "metadata": {},
   "outputs": [],
   "source": [
    "def img_text(file):\n",
    "    a=str(pytesseract.image_to_string(file))\n",
    "    return a\n",
    "    "
   ]
  },
  {
   "cell_type": "code",
   "execution_count": 22,
   "metadata": {},
   "outputs": [
    {
     "data": {
      "text/plain": [
       "'GeeksforGeeks\\n\\nA Computer Science Portal for Geeks\\n\\nHow many times were you frustrated while looking out for a good\\ncollection of programming/ algorithm/ interview questions? What did\\nyou expect and what did you get? This portal has been created to\\nprovide well written, well thought and well explained solutions for\\nselected questions. An IIT Roorkee alumnus and founder of\\nGeeksforGeeks. He loves to solve programming problems in most\\nefficient ways. Apart from GeeksforGeeks, he has worked with DE\\nShaw and Co. as a software developer and JIIT Noida as an assistant professor. It is a\\ngood platform to learn programming. It is an educational website. Prepare for the\\nRecruitment drive of product based companies like Microsoft, Amazon, Adobe ete with\\na free online placement preparation course.\\n'"
      ]
     },
     "execution_count": 22,
     "metadata": {},
     "output_type": "execute_result"
    }
   ],
   "source": [
    "img_text(r'C:\\Users\\Srikar\\Desktop\\Study Stuff\\Personal Projects\\File Conversions\\12511.png')"
   ]
  },
  {
   "cell_type": "markdown",
   "metadata": {},
   "source": [
    "__Installing a library that converts the image and makes it readible on anvil__"
   ]
  },
  {
   "cell_type": "code",
   "execution_count": 12,
   "metadata": {},
   "outputs": [
    {
     "name": "stdout",
     "output_type": "stream",
     "text": [
      "Collecting anvil-uplink\n",
      "  Using cached anvil_uplink-0.4.1-py2.py3-none-any.whl (87 kB)\n",
      "Collecting ws4py\n",
      "  Using cached ws4py-0.5.1.tar.gz (51 kB)\n",
      "  Preparing metadata (setup.py): started\n",
      "  Preparing metadata (setup.py): finished with status 'done'\n",
      "Collecting argparse\n",
      "  Using cached argparse-1.4.0-py2.py3-none-any.whl (23 kB)\n",
      "Requirement already satisfied: future in c:\\users\\srikar\\anaconda4\\lib\\site-packages (from anvil-uplink) (0.18.2)\n",
      "Requirement already satisfied: six in c:\\users\\srikar\\anaconda4\\lib\\site-packages (from anvil-uplink) (1.16.0)\n",
      "Building wheels for collected packages: ws4py\n",
      "  Building wheel for ws4py (setup.py): started\n",
      "  Building wheel for ws4py (setup.py): finished with status 'done'\n",
      "  Created wheel for ws4py: filename=ws4py-0.5.1-py3-none-any.whl size=45228 sha256=a1a6a043ba419d2b10cfbfe0db62f26b7b0600f7d6d7aa5f483d6a4530b21ec7\n",
      "  Stored in directory: c:\\users\\srikar\\appdata\\local\\pip\\cache\\wheels\\e8\\9d\\fd\\0a594a1bc8d493935d319ac40d64d79f5b4117ef4d37b1b678\n",
      "Successfully built ws4py\n",
      "Installing collected packages: ws4py, argparse, anvil-uplink\n",
      "Successfully installed anvil-uplink-0.4.1 argparse-1.4.0 ws4py-0.5.1\n"
     ]
    }
   ],
   "source": [
    "#!pip install anvil-uplink"
   ]
  },
  {
   "cell_type": "code",
   "execution_count": 13,
   "metadata": {},
   "outputs": [],
   "source": [
    "import anvil.server"
   ]
  },
  {
   "cell_type": "code",
   "execution_count": 14,
   "metadata": {},
   "outputs": [
    {
     "name": "stdout",
     "output_type": "stream",
     "text": [
      "Connecting to wss://anvil.works/uplink\n",
      "Anvil websocket open\n",
      "Connected to \"Debug for srikaruchiha15@gmail.com\" as SERVER\n"
     ]
    }
   ],
   "source": [
    "anvil.server.connect('server_IA6V7VFYUSHPPOZQWIVYAGTM-NGBLTGBYKKQKSOVT')"
   ]
  },
  {
   "cell_type": "code",
   "execution_count": 16,
   "metadata": {},
   "outputs": [],
   "source": [
    "import anvil.media"
   ]
  },
  {
   "cell_type": "code",
   "execution_count": 20,
   "metadata": {},
   "outputs": [],
   "source": [
    "@anvil.server.callable\n",
    "def img_text(file):\n",
    "    with anvil.media.TempFile(file) as file_name:\n",
    "        a=str(pytesseract.image_to_string(file_name))\n",
    "        return a\n",
    "   \n",
    "    "
   ]
  }
 ],
 "metadata": {
  "kernelspec": {
   "display_name": "Python 3 (ipykernel)",
   "language": "python",
   "name": "python3"
  },
  "language_info": {
   "codemirror_mode": {
    "name": "ipython",
    "version": 3
   },
   "file_extension": ".py",
   "mimetype": "text/x-python",
   "name": "python",
   "nbconvert_exporter": "python",
   "pygments_lexer": "ipython3",
   "version": "3.9.13"
  }
 },
 "nbformat": 4,
 "nbformat_minor": 4
}
